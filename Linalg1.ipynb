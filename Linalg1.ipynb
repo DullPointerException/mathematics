{
 "cells": [
  {
   "cell_type": "code",
   "execution_count": 15,
   "metadata": {},
   "outputs": [
    {
     "name": "stdout",
     "output_type": "stream",
     "text": [
      "(3, 3)\n",
      "3\n",
      "[[-0.18579627  0.08895265  0.02941176]\n",
      " [ 0.15208034 -0.0071736  -0.05882353]\n",
      " [ 0.08249641 -0.00860832  0.02941176]]\n",
      "[[ 1.00000000e+00 -1.66533454e-16 -2.28983499e-16]\n",
      " [-1.38777878e-17  1.00000000e+00 -9.71445147e-17]\n",
      " [-6.93889390e-18  0.00000000e+00  1.00000000e+00]]\n"
     ]
    }
   ],
   "source": [
    "import numpy as np\n",
    "z= np.zeros((4,5))\n",
    "z\n",
    "type(z)\n",
    "z.shape\n",
    "\n",
    "b = [[1,4,7],[13, 11, 9],[1,-8, 17]]\n",
    "A = np.matrix()\n",
    "print(A.shape)\n",
    "print(np.linalg.matrix_rank(A))\n",
    "print(np.linalg.inv(A))\n",
    "print(np.linalg.inv(A)*A)"
   ]
  },
  {
   "cell_type": "markdown",
   "metadata": {},
   "source": [
    "### Types of Matrices\n",
    "https://en.wikipedia.org/wiki/List_of_matrices"
   ]
  }
 ],
 "metadata": {
  "kernelspec": {
   "display_name": "Python 3",
   "language": "python",
   "name": "python3"
  },
  "language_info": {
   "codemirror_mode": {
    "name": "ipython",
    "version": 3
   },
   "file_extension": ".py",
   "mimetype": "text/x-python",
   "name": "python",
   "nbconvert_exporter": "python",
   "pygments_lexer": "ipython3",
   "version": "3.7.3"
  }
 },
 "nbformat": 4,
 "nbformat_minor": 2
}
